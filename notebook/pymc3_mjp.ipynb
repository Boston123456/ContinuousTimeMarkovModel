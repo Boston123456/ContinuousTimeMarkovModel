{
 "cells": [
  {
   "cell_type": "code",
   "execution_count": 37,
   "metadata": {
    "collapsed": false
   },
   "outputs": [],
   "source": [
    "from pymc3 import Continuous\n",
    "import theano.tensor as T\n",
    "from theano.tensor.nlinalg import eig, matrix_inverse\n",
    "\n",
    "class DiscreteObsMJP(Continuous):\n",
    "\n",
    "    def __init__(self, Q, *args, **kwargs):\n",
    "        super(DiscreteObsMJP, self).__init__(*args, **kwargs)\n",
    "        self.Q = Q\n",
    "\n",
    "    def logp(self, value):\n",
    "        Q = self.Q\n",
    "        step_sizes = value[0]\n",
    "\n",
    "        l = 0.0\n",
    "        for tau in step_sizes:\n",
    "            #get P(tau)\n",
    "            eigen = eig(Q)\n",
    "            lambdas = eigen[0]\n",
    "            U = eigen[1]\n",
    "            \n",
    "            P = U.dot(T.diag(T.exp(tau*lambdas))).dot(matrix_inverse(U))\n",
    "        \n",
    "            #compute likelihood in terms of P(tau)\n",
    "            l += T.sum(value[1][step_sizes]*T.log(P))\n",
    "            \n",
    "        return l"
   ]
  },
  {
   "cell_type": "code",
   "execution_count": 38,
   "metadata": {
    "collapsed": false
   },
   "outputs": [],
   "source": [
    "import rpy2.robjects as robjects\n",
    "import numpy as np\n",
    "\n",
    "robjects.r['load'](\"../data/metzner07_example1_sim.Rdata\")\n",
    "C=np.array(robjects.r['C'])\n",
    "C=np.transpose(np.array(C))\n",
    "for i in range(0, 2):\n",
    "    C[i] = np.transpose(C[i])\n",
    "    \n",
    "step_sizes = np.array([0.01, 1, 100])\n",
    "    \n",
    "data=(step_sizes, C)"
   ]
  },
  {
   "cell_type": "code",
   "execution_count": 42,
   "metadata": {
    "collapsed": false
   },
   "outputs": [
    {
     "ename": "AssertionError",
     "evalue": "",
     "output_type": "error",
     "traceback": [
      "\u001b[0;31m---------------------------------------------------------------------------\u001b[0m",
      "\u001b[0;31mAssertionError\u001b[0m                            Traceback (most recent call last)",
      "\u001b[0;32m<ipython-input-42-f0f05d419c2b>\u001b[0m in \u001b[0;36m<module>\u001b[0;34m()\u001b[0m\n\u001b[1;32m     46\u001b[0m     \u001b[0mQ_raw\u001b[0m \u001b[0;34m=\u001b[0m \u001b[0mPoisson\u001b[0m\u001b[0;34m(\u001b[0m\u001b[0;34m'Q_raw'\u001b[0m\u001b[0;34m,\u001b[0m \u001b[0;36m1\u001b[0m\u001b[0;34m)\u001b[0m\u001b[0;34m\u001b[0m\u001b[0m\n\u001b[1;32m     47\u001b[0m \u001b[0;34m\u001b[0m\u001b[0m\n\u001b[0;32m---> 48\u001b[0;31m     \u001b[0mQ\u001b[0m \u001b[0;34m=\u001b[0m \u001b[0mconvertFromRaw\u001b[0m\u001b[0;34m(\u001b[0m\u001b[0mQ_raw\u001b[0m\u001b[0;34m)\u001b[0m\u001b[0;34m\u001b[0m\u001b[0m\n\u001b[0m\u001b[1;32m     49\u001b[0m \u001b[0;34m\u001b[0m\u001b[0m\n\u001b[1;32m     50\u001b[0m     \u001b[0mC_obs\u001b[0m \u001b[0;34m=\u001b[0m \u001b[0mDiscreteObsMJP\u001b[0m\u001b[0;34m(\u001b[0m\u001b[0;34m'C_obs'\u001b[0m\u001b[0;34m,\u001b[0m \u001b[0mQ\u001b[0m\u001b[0;34m=\u001b[0m\u001b[0mQ\u001b[0m\u001b[0;34m,\u001b[0m \u001b[0mstep_sizes\u001b[0m\u001b[0;34m=\u001b[0m\u001b[0mstep_sizes\u001b[0m\u001b[0;34m,\u001b[0m \u001b[0mobserved\u001b[0m\u001b[0;34m=\u001b[0m\u001b[0mC\u001b[0m\u001b[0;34m)\u001b[0m\u001b[0;34m\u001b[0m\u001b[0m\n",
      "\u001b[0;32m/Users/Arya/anaconda/lib/python2.7/site-packages/theano/gof/op.pyc\u001b[0m in \u001b[0;36m__call__\u001b[0;34m(self, *inputs, **kwargs)\u001b[0m\n\u001b[1;32m    506\u001b[0m         \"\"\"\n\u001b[1;32m    507\u001b[0m         \u001b[0mreturn_list\u001b[0m \u001b[0;34m=\u001b[0m \u001b[0mkwargs\u001b[0m\u001b[0;34m.\u001b[0m\u001b[0mpop\u001b[0m\u001b[0;34m(\u001b[0m\u001b[0;34m'return_list'\u001b[0m\u001b[0;34m,\u001b[0m \u001b[0mFalse\u001b[0m\u001b[0;34m)\u001b[0m\u001b[0;34m\u001b[0m\u001b[0m\n\u001b[0;32m--> 508\u001b[0;31m         \u001b[0mnode\u001b[0m \u001b[0;34m=\u001b[0m \u001b[0mself\u001b[0m\u001b[0;34m.\u001b[0m\u001b[0mmake_node\u001b[0m\u001b[0;34m(\u001b[0m\u001b[0;34m*\u001b[0m\u001b[0minputs\u001b[0m\u001b[0;34m,\u001b[0m \u001b[0;34m**\u001b[0m\u001b[0mkwargs\u001b[0m\u001b[0;34m)\u001b[0m\u001b[0;34m\u001b[0m\u001b[0m\n\u001b[0m\u001b[1;32m    509\u001b[0m \u001b[0;34m\u001b[0m\u001b[0m\n\u001b[1;32m    510\u001b[0m         \u001b[0;32mif\u001b[0m \u001b[0mconfig\u001b[0m\u001b[0;34m.\u001b[0m\u001b[0mcompute_test_value\u001b[0m \u001b[0;34m!=\u001b[0m \u001b[0;34m'off'\u001b[0m\u001b[0;34m:\u001b[0m\u001b[0;34m\u001b[0m\u001b[0m\n",
      "\u001b[0;32m/Users/Arya/anaconda/lib/python2.7/site-packages/theano/compile/ops.pyc\u001b[0m in \u001b[0;36mmake_node\u001b[0;34m(self, *inputs)\u001b[0m\n\u001b[1;32m    501\u001b[0m     \u001b[0;32mdef\u001b[0m \u001b[0mmake_node\u001b[0m\u001b[0;34m(\u001b[0m\u001b[0mself\u001b[0m\u001b[0;34m,\u001b[0m \u001b[0;34m*\u001b[0m\u001b[0minputs\u001b[0m\u001b[0;34m)\u001b[0m\u001b[0;34m:\u001b[0m\u001b[0;34m\u001b[0m\u001b[0m\n\u001b[1;32m    502\u001b[0m         \u001b[0;32massert\u001b[0m \u001b[0mlen\u001b[0m\u001b[0;34m(\u001b[0m\u001b[0minputs\u001b[0m\u001b[0;34m)\u001b[0m \u001b[0;34m==\u001b[0m \u001b[0mlen\u001b[0m\u001b[0;34m(\u001b[0m\u001b[0mself\u001b[0m\u001b[0;34m.\u001b[0m\u001b[0mitypes\u001b[0m\u001b[0;34m)\u001b[0m\u001b[0;34m\u001b[0m\u001b[0m\n\u001b[0;32m--> 503\u001b[0;31m         \u001b[0;32massert\u001b[0m \u001b[0mall\u001b[0m\u001b[0;34m(\u001b[0m\u001b[0minp\u001b[0m\u001b[0;34m.\u001b[0m\u001b[0mtype\u001b[0m \u001b[0;34m==\u001b[0m \u001b[0mit\u001b[0m \u001b[0;32mfor\u001b[0m \u001b[0minp\u001b[0m\u001b[0;34m,\u001b[0m \u001b[0mit\u001b[0m \u001b[0;32min\u001b[0m \u001b[0mzip\u001b[0m\u001b[0;34m(\u001b[0m\u001b[0minputs\u001b[0m\u001b[0;34m,\u001b[0m \u001b[0mself\u001b[0m\u001b[0;34m.\u001b[0m\u001b[0mitypes\u001b[0m\u001b[0;34m)\u001b[0m\u001b[0;34m)\u001b[0m\u001b[0;34m\u001b[0m\u001b[0m\n\u001b[0m\u001b[1;32m    504\u001b[0m         \u001b[0;32mreturn\u001b[0m \u001b[0mtheano\u001b[0m\u001b[0;34m.\u001b[0m\u001b[0mApply\u001b[0m\u001b[0;34m(\u001b[0m\u001b[0mself\u001b[0m\u001b[0;34m,\u001b[0m \u001b[0minputs\u001b[0m\u001b[0;34m,\u001b[0m \u001b[0;34m[\u001b[0m\u001b[0mo\u001b[0m\u001b[0;34m(\u001b[0m\u001b[0;34m)\u001b[0m \u001b[0;32mfor\u001b[0m \u001b[0mo\u001b[0m \u001b[0;32min\u001b[0m \u001b[0mself\u001b[0m\u001b[0;34m.\u001b[0m\u001b[0motypes\u001b[0m\u001b[0;34m]\u001b[0m\u001b[0;34m)\u001b[0m\u001b[0;34m\u001b[0m\u001b[0m\n\u001b[1;32m    505\u001b[0m \u001b[0;34m\u001b[0m\u001b[0m\n",
      "\u001b[0;31mAssertionError\u001b[0m: "
     ]
    }
   ],
   "source": [
    "from pymc3 import Model, HalfNormal, Poisson\n",
    "from theano.compile.ops import as_op\n",
    "\n",
    "@as_op(itypes=[T.cmatrix], otypes=[T.cmatrix])\n",
    "def convertFromRaw(Q_raw):\n",
    "    nrows = Q_raw.shape[0]\n",
    "    ncols = Q_raw.shape[1]\n",
    "    Q = np.empty([nrows,ncols+1], dtype=np.complex64)\n",
    "    for i in range(0, nrows):\n",
    "        index = 0\n",
    "        for j in range(0, ncols+1):\n",
    "            if i==j:\n",
    "                Q[i,j] = np.complex64(-sum(Q_raw[i,]))\n",
    "            else:\n",
    "                Q[i,j] = Q_raw[i, index]\n",
    "                index = index + 1\n",
    "    return Q\n",
    "\n",
    "with Model() as model:\n",
    "    '''\n",
    "    Q11 = HalfNormal('Q11', sd=20)\n",
    "    Q12 = HalfNormal('Q12', sd=20)\n",
    "    Q13 = HalfNormal('Q13', sd=20)\n",
    "    Q14 = HalfNormal('Q14', sd=20)\n",
    "    \n",
    "    Q21 = HalfNormal('Q21', sd=20)\n",
    "    Q22 = HalfNormal('Q22', sd=20)\n",
    "    Q23 = HalfNormal('Q23', sd=20)\n",
    "    Q24 = HalfNormal('Q24', sd=20)\n",
    "    \n",
    "    Q31 = HalfNormal('Q31', sd=20)\n",
    "    Q32 = HalfNormal('Q32', sd=20)\n",
    "    Q33 = HalfNormal('Q33', sd=20)\n",
    "    Q34 = HalfNormal('Q34', sd=20)\n",
    "    \n",
    "    Q41 = HalfNormal('Q41', sd=20)\n",
    "    Q42 = HalfNormal('Q42', sd=20)\n",
    "    Q43 = HalfNormal('Q43', sd=20)\n",
    "    Q44 = HalfNormal('Q44', sd=20)\n",
    "    \n",
    "    Q51 = HalfNormal('Q51', sd=20)\n",
    "    Q52 = HalfNormal('Q52', sd=20)\n",
    "    Q53 = HalfNormal('Q53', sd=20)\n",
    "    Q54 = HalfNormal('Q54', sd=20)\n",
    "    '''\n",
    "    Q_raw = Poisson('Q_raw', 1)\n",
    "    \n",
    "    Q = convertFromRaw(Q_raw)\n",
    "    \n",
    "    C_obs = DiscreteObsMJP('C_obs', Q=Q, step_sizes=step_sizes, observed=C)"
   ]
  },
  {
   "cell_type": "code",
   "execution_count": null,
   "metadata": {
    "collapsed": true
   },
   "outputs": [],
   "source": [
    "Q=[[-6, 2, 2, 1, 1], \n",
    "   [1, -4, 0, 1, 2],\n",
    "   [1, 0, -4, 2, 1],\n",
    "   [2, 1, 0, -3, 0],\n",
    "   [1, 1, 1, 1, -4]]\n",
    "Q_raw = np.array([[2, 2, 1, 1], \n",
    "   [1, 0, 1, 2],\n",
    "   [1, 0, 2, 1],\n",
    "   [2, 1, 0, 0],\n",
    "   [1, 1, 1, 1]], dtype=np.complex64)\n"
   ]
  },
  {
   "cell_type": "code",
   "execution_count": null,
   "metadata": {
    "collapsed": true
   },
   "outputs": [],
   "source": []
  }
 ],
 "metadata": {
  "kernelspec": {
   "display_name": "Python 2",
   "language": "python",
   "name": "python2"
  },
  "language_info": {
   "codemirror_mode": {
    "name": "ipython",
    "version": 2
   },
   "file_extension": ".py",
   "mimetype": "text/x-python",
   "name": "python",
   "nbconvert_exporter": "python",
   "pygments_lexer": "ipython2",
   "version": "2.7.9"
  }
 },
 "nbformat": 4,
 "nbformat_minor": 0
}
