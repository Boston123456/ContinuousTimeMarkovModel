{
 "cells": [
  {
   "cell_type": "code",
   "execution_count": 1,
   "metadata": {
    "collapsed": true
   },
   "outputs": [],
   "source": [
    "import sys\n",
    "import numpy as np\n",
    "import pandas as pd\n",
    "from pickle import dump\n",
    "import re"
   ]
  },
  {
   "cell_type": "code",
   "execution_count": 2,
   "metadata": {
    "collapsed": false
   },
   "outputs": [],
   "source": [
    "def loadS(dataDirectory):\n",
    "    S = []\n",
    "    obs_jumps = []\n",
    "    T = []\n",
    "    with open(dataDirectory+'/S.txt') as sFile:\n",
    "        for line in sFile:\n",
    "            tval = 0\n",
    "            prevtime = 0\n",
    "            for pair in line[:-1].split(',')[1:]:\n",
    "                time,sval = pair.split(':')\n",
    "                time = int(time)\n",
    "                sval = int(sval)\n",
    "                if time >= 0:\n",
    "                    tval += 1\n",
    "                    obs_jumps.append(time-prevtime)\n",
    "                    prevtime = time\n",
    "                    S.append(sval)\n",
    "            T.append(tval)\n",
    "    sFile.close()\n",
    "    return np.asarray(S), np.asarray(obs_jumps), np.asarray(T)"
   ]
  },
  {
   "cell_type": "code",
   "execution_count": 3,
   "metadata": {
    "collapsed": false
   },
   "outputs": [],
   "source": [
    "def loadAnchors(dataDirectory):\n",
    "    icd9Map = {}\n",
    "    with open(dataDirectory+'/fid.txt') as mapFile:\n",
    "        for i,icd9 in enumerate(mapFile):\n",
    "            icd9Map[icd9.strip()] = i\n",
    "    mapFile.close()\n",
    "    #print icd9Map\n",
    "    comorbidityNames = []\n",
    "    anchors = []\n",
    "    with open(dataDirectory+'/anchor_icd9.csv') as anchorFile:\n",
    "        for i,line in enumerate(anchorFile):\n",
    "            text = line.strip().split(',')\n",
    "            comorbidityNames.append(text[0])\n",
    "            comorbAnchors = []\n",
    "            for codeStr in text[1:]:\n",
    "                for key in icd9Map.keys():\n",
    "                    l = re.search(codeStr,key)\n",
    "                    if l is not None:\n",
    "                        comorbAnchors.append(icd9Map[l.group(0)])\n",
    "            anchors.append((i,comorbAnchors))\n",
    "    anchorFile.close()\n",
    "    return anchors,comorbidityNames"
   ]
  },
  {
   "cell_type": "code",
   "execution_count": null,
   "metadata": {
    "collapsed": false
   },
   "outputs": [],
   "source": []
  },
  {
   "cell_type": "code",
   "execution_count": 4,
   "metadata": {
    "collapsed": true
   },
   "outputs": [],
   "source": [
    "dataDirectory = 'test_small'\n",
    "#outDirectory = 'small_sample'\n",
    "outDirectory = 'small_random_sample'"
   ]
  },
  {
   "cell_type": "code",
   "execution_count": 5,
   "metadata": {
    "collapsed": false
   },
   "outputs": [],
   "source": [
    "Q = np.loadtxt(dataDirectory+'/Q.txt')\n",
    "pi = np.loadtxt(dataDirectory+'/pi.txt')\n",
    "S,obs_jumps,T = loadS(dataDirectory)\n",
    "#B0(K,M)\n",
    "B0 = np.loadtxt(dataDirectory+'/piB.txt')\n",
    "#B(K,M)\n",
    "B = np.loadtxt(dataDirectory+'/B.txt')\n",
    "Z = np.loadtxt(dataDirectory+'/Z.txt')\n",
    "L = np.loadtxt(dataDirectory+'/L.txt')\n",
    "anchors,comorbidityNames = loadAnchors(dataDirectory)\n",
    "nObs = S.shape[0]\n",
    "N = T.shape[0]\n",
    "M = pi.shape[0]\n",
    "K,D = Z.shape\n",
    "zeroIndices = np.roll(T.cumsum(),1)                                                                                                                                                               \n",
    "zeroIndices[0] = 0"
   ]
  },
  {
   "cell_type": "code",
   "execution_count": null,
   "metadata": {
    "collapsed": false
   },
   "outputs": [],
   "source": []
  },
  {
   "cell_type": "code",
   "execution_count": 6,
   "metadata": {
    "collapsed": false
   },
   "outputs": [],
   "source": [
    "#DES Random inputs\n",
    "ranSeed = 144\n",
    "np.random.seed(ranSeed)\n",
    "np.random.shuffle(L)\n",
    "np.random.seed(ranSeed+1)\n",
    "Z = np.random.rand(K,D)\n",
    "np.random.seed(ranSeed+2)\n",
    "B = np.random.rand(K,M)\n",
    "np.random.seed(ranSeed+3)\n",
    "B0 = np.random.rand(K,M)\n",
    "B0.sort(axis=1)\n",
    "np.random.seed(ranSeed+4)\n",
    "pi = np.random.rand(M)*(1-M*0.001)+0.001*M\n",
    "pi = pi/pi.sum()\n",
    "np.random.seed(ranSeed+5)\n",
    "Qvals = np.random.rand(M-1)\n",
    "Q = np.zeros((M,M))"
   ]
  },
  {
   "cell_type": "code",
   "execution_count": null,
   "metadata": {
    "collapsed": false
   },
   "outputs": [],
   "source": []
  },
  {
   "cell_type": "code",
   "execution_count": 7,
   "metadata": {
    "collapsed": false
   },
   "outputs": [],
   "source": [
    "np.random.seed(39393)\n",
    "#Compute X\n",
    "X = np.zeros((nObs,K))\n",
    "X[zeroIndices] = np.random.binomial(n=1,p=B0[:,S[zeroIndices]].T)\n",
    "for k in range(K):\n",
    "    for n in range(N):\n",
    "        n0 = zeroIndices[n]\n",
    "        if X[n0,k] == 1:\n",
    "            X[zeroIndices[n]:(zeroIndices[n]+T[n]),k] = 1\n",
    "        else:\n",
    "            changed = np.diff(S[zeroIndices[n]:(zeroIndices[n]+T[n])])\n",
    "            for t in range(1,T[n]):\n",
    "                if changed[t-1]==1 and np.random.rand()<B[k,S[n0+t]]:\n",
    "                        X[(n0+t):(zeroIndices[n]+T[n]),k] = 1\n",
    "                        break\n",
    "\n",
    "#Compute O\n",
    "pO = (1.-(1.-L)*(1.-X[:,:,np.newaxis]*Z[np.newaxis,:,:]).prod(axis=1))\n",
    "#pO = X.dot(Z)\n",
    "OCount = np.random.binomial(n=1,p=pO)\n",
    "O = (OCount*np.arange(1,D+1))\n",
    "O = O-1\n",
    "O[:,::-1].sort(axis=1)\n",
    "\n",
    "#Compute pi from actual start times\n",
    "pi = np.bincount(S[zeroIndices])/float(np.bincount(S[zeroIndices]).sum())\n",
    "\n",
    "#Clean up types\n",
    "S = S.astype(np.int32)\n",
    "X = X.astype(np.int8)"
   ]
  },
  {
   "cell_type": "code",
   "execution_count": 8,
   "metadata": {
    "collapsed": false
   },
   "outputs": [],
   "source": [
    "#Write pickled files\n",
    "variables = [Q,pi,S,T,obs_jumps,B0,B,X,Z,L,O,anchors,comorbidityNames]\n",
    "names = ['Q','pi','S','T','obs_jumps','B0','B','X','Z','L','O','anchors','comorbidityNames']\n",
    "for var,name in zip(variables,names):\n",
    "    outfile = open(outDirectory+'/'+name+'.pkl','wb')\n",
    "    dump(var,outfile)\n",
    "    outfile.close()"
   ]
  },
  {
   "cell_type": "code",
   "execution_count": null,
   "metadata": {
    "collapsed": false
   },
   "outputs": [],
   "source": []
  },
  {
   "cell_type": "code",
   "execution_count": null,
   "metadata": {
    "collapsed": false
   },
   "outputs": [],
   "source": []
  },
  {
   "cell_type": "code",
   "execution_count": null,
   "metadata": {
    "collapsed": true
   },
   "outputs": [],
   "source": []
  }
 ],
 "metadata": {
  "kernelspec": {
   "display_name": "Python 2",
   "language": "python",
   "name": "python2"
  },
  "language_info": {
   "codemirror_mode": {
    "name": "ipython",
    "version": 2
   },
   "file_extension": ".py",
   "mimetype": "text/x-python",
   "name": "python",
   "nbconvert_exporter": "python",
   "pygments_lexer": "ipython2",
   "version": "2.7.10"
  }
 },
 "nbformat": 4,
 "nbformat_minor": 0
}
