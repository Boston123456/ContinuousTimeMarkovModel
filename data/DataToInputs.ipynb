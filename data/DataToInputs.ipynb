{
 "cells": [
  {
   "cell_type": "code",
   "execution_count": 25,
   "metadata": {
    "collapsed": true
   },
   "outputs": [],
   "source": [
    "import sys\n",
    "import numpy as np\n",
    "import pandas as pd\n",
    "from pickle import dump"
   ]
  },
  {
   "cell_type": "code",
   "execution_count": 26,
   "metadata": {
    "collapsed": false
   },
   "outputs": [],
   "source": [
    "def loadS(dataDirectory):\n",
    "    S = []\n",
    "    obs_jumps = []\n",
    "    T = []\n",
    "    with open(dataDirectory+'/S.txt') as sFile:\n",
    "        for line in sFile:\n",
    "            tval = 0\n",
    "            prevtime = 0\n",
    "            for pair in line[:-1].split(',')[1:]:\n",
    "                time,sval = pair.split(':')\n",
    "                time = int(time)\n",
    "                sval = int(sval)\n",
    "                if time >= 0:\n",
    "                    tval += 1\n",
    "                    obs_jumps.append(time-prevtime)\n",
    "                    prevtime = time\n",
    "                    S.append(sval)\n",
    "            T.append(tval)\n",
    "    return np.asarray(S), np.asarray(obs_jumps), np.asarray(T)"
   ]
  },
  {
   "cell_type": "code",
   "execution_count": 27,
   "metadata": {
    "collapsed": true
   },
   "outputs": [],
   "source": [
    "dataDirectory = 'test_small'\n",
    "outDirectory = 'small_sample'"
   ]
  },
  {
   "cell_type": "code",
   "execution_count": 28,
   "metadata": {
    "collapsed": false
   },
   "outputs": [],
   "source": [
    "Q = np.loadtxt(dataDirectory+'/Q.txt')\n",
    "pi = np.loadtxt(dataDirectory+'/pi.txt')\n",
    "S,obs_jumps,T = loadS(dataDirectory)\n",
    "#B0(K,M)\n",
    "B0 = np.loadtxt(dataDirectory+'/piB.txt')\n",
    "#B(K,M)\n",
    "B = np.loadtxt(dataDirectory+'/B.txt')\n",
    "Z = np.loadtxt(dataDirectory+'/Z.txt')\n",
    "L = np.loadtxt(dataDirectory+'/L.txt')\n",
    "nObs = S.shape[0]\n",
    "N = T.shape[0]\n",
    "M = pi.shape[0]\n",
    "K,D = Z.shape\n",
    "zeroIndices = np.roll(T.cumsum(),1)                                                                                                                                                               \n",
    "zeroIndices[0] = 0"
   ]
  },
  {
   "cell_type": "code",
   "execution_count": 29,
   "metadata": {
    "collapsed": false
   },
   "outputs": [],
   "source": [
    "np.random.seed(39393)\n",
    "#Compute X\n",
    "X = np.zeros((nObs,K))\n",
    "X[zeroIndices] = np.random.binomial(n=1,p=B0[:,S[zeroIndices]].T)\n",
    "for k in range(K):\n",
    "    for n in range(N):\n",
    "        n0 = zeroIndices[n]\n",
    "        if X[n0,k] == 1:\n",
    "            X[zeroIndices[n]:(zeroIndices[n]+T[n]),k] = 1\n",
    "        else:\n",
    "            changed = np.diff(S[zeroIndices[n]:(zeroIndices[n]+T[n])])\n",
    "            for t in range(1,T[n]):\n",
    "                if changed[t-1]==1 and np.random.rand()<B[k,S[n0+t]]:\n",
    "                        X[(n0+t):(zeroIndices[n]+T[n]),k] = 1\n",
    "                        break\n",
    "\n",
    "#Compute O\n",
    "pO = X.dot(Z)\n",
    "OCount = np.random.binomial(n=1,p=pO)\n",
    "O = (OCount*np.arange(1,D+1))\n",
    "O = O-1\n",
    "O[:,::-1].sort(axis=1)\n",
    "\n",
    "#Compute pi from actual start times\n",
    "pi = np.bincount(S[zeroIndices])/float(S[zeroIndices].sum())\n",
    "\n",
    "#Clean up types\n",
    "S = S.astype(np.int32)\n",
    "X = X.astype(np.int8)\n",
    "\n",
    "#Write pickled files\n",
    "variables = [Q,pi,S,T,obs_jumps,B0,B,X,Z,L,O]\n",
    "names = ['Q','pi','S','T','obs_jumps','B0','B','X','Z','L','O']\n",
    "for var,name in zip(variables,names):\n",
    "    outfile = open(outDirectory+'/'+name+'.pkl','wb')\n",
    "    dump(var,outfile)\n",
    "    outfile.close()"
   ]
  },
  {
   "cell_type": "code",
   "execution_count": null,
   "metadata": {
    "collapsed": false
   },
   "outputs": [],
   "source": []
  },
  {
   "cell_type": "code",
   "execution_count": null,
   "metadata": {
    "collapsed": true
   },
   "outputs": [],
   "source": []
  },
  {
   "cell_type": "code",
   "execution_count": null,
   "metadata": {
    "collapsed": true
   },
   "outputs": [],
   "source": []
  }
 ],
 "metadata": {
  "kernelspec": {
   "display_name": "Python 2",
   "language": "python",
   "name": "python2"
  },
  "language_info": {
   "codemirror_mode": {
    "name": "ipython",
    "version": 2
   },
   "file_extension": ".py",
   "mimetype": "text/x-python",
   "name": "python",
   "nbconvert_exporter": "python",
   "pygments_lexer": "ipython2",
   "version": "2.7.10"
  }
 },
 "nbformat": 4,
 "nbformat_minor": 0
}
