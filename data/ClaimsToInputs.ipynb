{
 "cells": [
  {
   "cell_type": "code",
   "execution_count": 424,
   "metadata": {
    "collapsed": false
   },
   "outputs": [],
   "source": [
    "import argparse\n",
    "#sampleVars = ['Q','pi','S','B0','B','X','Z','L']\n",
    "\n",
    "#Set up inputs\n",
    "parser = argparse.ArgumentParser(description='Convert claims into inputs for the Sontag disease progression model.')\n",
    "parser.add_argument(action='store', default='new_sample/', type=str, dest = 'claimsfile',\n",
    "                        help='claims csv file to read in')\n",
    "parser.add_argument('-o','--outdir', action='store', default='new_sample/', type=str, dest = 'outdir',\n",
    "                        help='directory to output data')\n",
    "parser.add_argument('-p','--paramdir', action='store', default=None, type=str, dest = 'paramdir',\n",
    "                        help='directory to grab parameter initializations from')\n",
    "parser.add_argument('-a','--anchorsdir', action='store', default=None, type=str, dest = 'anchorsdir',\n",
    "                        help='directory to grab anchors from if not specifying paramdir')\n",
    "parser.add_argument('-t','--timeperiod', action='store', default=90, type=int, dest = 'timeperiod',\n",
    "                        help='number of days per time period')\n",
    "parser.add_argument('-c','--maxclaims', action='store', default=None, type=int, dest = 'maxclaims',\n",
    "                        help='number of days per time period')\n",
    "parser.add_argument('-s','--minsteps', action='store', default=3, type=int, dest = 'minsteps',\n",
    "                        help='minimum number of active time periods')\n",
    "parser.add_argument('--seed', action='store', default=111, type=int, dest = 'randomseed',\n",
    "                        help='random seed for sampling')\n",
    "parser.add_argument('--kcomorbid', action='store', default=4, type=int, dest = 'K',\n",
    "                        help='specify K if not specifying paramdir')\n",
    "parser.add_argument('--mstates', action='store', default=4, type=int, dest = 'M',\n",
    "                        help='specify M if not specifying paramdir')\n",
    "#parser.add_argument('-p','--profile', action='store_true', dest = 'profile',\n",
    "#                        help='turns on theano profiler')\n",
    "\n",
    "args = parser.parse_args(['realData.csv','-c','16'])"
   ]
  },
  {
   "cell_type": "code",
   "execution_count": 425,
   "metadata": {
    "collapsed": false
   },
   "outputs": [],
   "source": [
    "import pandas as pd\n",
    "import datetime\n",
    "import numpy as np\n",
    "from scipy.linalg import expm\n",
    "import os\n",
    "from pickle import dump\n",
    "import re"
   ]
  },
  {
   "cell_type": "code",
   "execution_count": 426,
   "metadata": {
    "collapsed": true
   },
   "outputs": [],
   "source": [
    "def loadAnchors(dataDirectory):\n",
    "    icd9Map = {}\n",
    "    with open(dataDirectory+'/fid.txt') as mapFile:\n",
    "        for i,icd9 in enumerate(mapFile):\n",
    "            icd9Map[icd9.strip()] = i\n",
    "    mapFile.close()\n",
    "    #print icd9Map\n",
    "    comorbidityNames = []\n",
    "    anchors = []\n",
    "    with open(dataDirectory+'/anchor_icd9.csv') as anchorFile:\n",
    "        for i,line in enumerate(anchorFile):\n",
    "            text = line.strip().split(',')\n",
    "            comorbidityNames.append(text[0])\n",
    "            comorbAnchors = []\n",
    "            for codeStr in text[1:]:\n",
    "                for key in icd9Map.keys():\n",
    "                    l = re.search(codeStr,key)\n",
    "                    if l is not None:\n",
    "                        comorbAnchors.append(icd9Map[l.group(0)])\n",
    "            anchors.append((i,comorbAnchors))\n",
    "    anchorFile.close()\n",
    "    return anchors,comorbidityNames"
   ]
  },
  {
   "cell_type": "code",
   "execution_count": 427,
   "metadata": {
    "collapsed": false
   },
   "outputs": [],
   "source": [
    "claimsDF = pd.read_csv(args.claimsfile,index_col=0,parse_dates='date_of_service')\n",
    "claimsDF.date_of_service = claimsDF.date_of_service.astype(np.datetime64)"
   ]
  },
  {
   "cell_type": "code",
   "execution_count": 428,
   "metadata": {
    "collapsed": false
   },
   "outputs": [],
   "source": [
    "if args.maxclaims is not None:\n",
    "    fid = claimsDF.primary_diag_cd.value_counts()[0:args.maxclaims].index.values\n",
    "    claimsDF.primary_diag_cd = claimsDF.primary_diag_cd.apply(lambda x: x if x in fid else np.nan)\n",
    "    claimsDF.dropna(inplace=True)\n",
    "else:\n",
    "    fid = claimsDF.primary_diag_cd.unique()\n",
    "D = len(fid)"
   ]
  },
  {
   "cell_type": "code",
   "execution_count": 442,
   "metadata": {
    "collapsed": false
   },
   "outputs": [],
   "source": [
    "tstepClaims = []\n",
    "for user in claimsDF.groupby('pers_uniq_id'):\n",
    "    user[1].date_of_service = (user[1].date_of_service-user[1].date_of_service.min())/pd.Timedelta('1 days')\n",
    "#    user[1].date_of_service.max()/\n",
    "    nbins = np.ceil(user[1].date_of_service.max()/args.timeperiod)\n",
    "    bins = np.arange(0,(nbins+1)*args.timeperiod,args.timeperiod)\n",
    "    user[1].loc[:,'timeperiod'] = pd.cut(user[1].loc[:,'date_of_service'], bins, include_lowest=True,labels = range(int(nbins)))\n",
    "    user[1].loc[:,'timeperiod'] = user[1].loc[:,'timeperiod'].dropna().astype(int)\n",
    "#    user[1].loc[:,'timeperiod'] = pd.cut(user[1]['date_of_service'], bins, include_lowest=True,labels = range(int(nbins)))\n",
    "#    user[1].loc[:,'timeperiod'] = user[1]['timeperiod'].dropna().astype(int)\n",
    "    tstepClaims.append(user[1][['pers_uniq_id','timeperiod','primary_diag_cd']].drop_duplicates())"
   ]
  },
  {
   "cell_type": "code",
   "execution_count": 431,
   "metadata": {
    "collapsed": false
   },
   "outputs": [],
   "source": [
    "finalClaims = pd.concat(tstepClaims)\n",
    "finalClaims = finalClaims.dropna()"
   ]
  },
  {
   "cell_type": "code",
   "execution_count": 432,
   "metadata": {
    "collapsed": false
   },
   "outputs": [],
   "source": [
    "fidDict = {}\n",
    "for i,icd9 in enumerate(fid):\n",
    "    fidDict[icd9] = i\n",
    "finalClaims.loc[:,'primary_diag_cd'] = finalClaims.primary_diag_cd.apply(lambda x: fidDict[x])"
   ]
  },
  {
   "cell_type": "code",
   "execution_count": 433,
   "metadata": {
    "collapsed": false
   },
   "outputs": [],
   "source": [
    "finalClaims = finalClaims.groupby(['pers_uniq_id'],as_index=False).apply(lambda x: x if x.timeperiod.nunique()>=args.minsteps else None).reset_index(drop=True)"
   ]
  },
  {
   "cell_type": "code",
   "execution_count": 434,
   "metadata": {
    "collapsed": false
   },
   "outputs": [],
   "source": [
    "Dmax = finalClaims.groupby(['pers_uniq_id','timeperiod']).count().max()[0]"
   ]
  },
  {
   "cell_type": "code",
   "execution_count": 435,
   "metadata": {
    "collapsed": false
   },
   "outputs": [],
   "source": [
    "T = finalClaims.groupby(['pers_uniq_id']).timeperiod.nunique().values\n",
    "nObs = T.sum()\n",
    "N = len(T)\n",
    "zeroIndices = np.roll(T.cumsum(),1)                                                                                                                                                               \n",
    "zeroIndices[0] = 0"
   ]
  },
  {
   "cell_type": "code",
   "execution_count": 436,
   "metadata": {
    "collapsed": true
   },
   "outputs": [],
   "source": [
    "O = np.ones((nObs,Dmax),dtype=int)*-1\n",
    "obs_jumps = np.zeros((nObs),dtype=int)"
   ]
  },
  {
   "cell_type": "code",
   "execution_count": 437,
   "metadata": {
    "collapsed": false
   },
   "outputs": [],
   "source": [
    "counter = 0\n",
    "prevTime = 0\n",
    "for group in finalClaims.groupby(['pers_uniq_id','timeperiod']):\n",
    "    for i,val in enumerate(group[1].primary_diag_cd):\n",
    "        O[counter,i]=val\n",
    "    curTime = group[1].timeperiod.values[0]\n",
    "    obs_jumps[counter] = curTime-prevTime\n",
    "    prevTime = curTime\n",
    "    counter += 1\n",
    "obs_jumps[zeroIndices] = 0"
   ]
  },
  {
   "cell_type": "code",
   "execution_count": 438,
   "metadata": {
    "collapsed": false
   },
   "outputs": [],
   "source": [
    "if args.paramdir is not None:\n",
    "    dataDirectory = args.paramdir\n",
    "    Q = np.loadtxt(dataDirectory+'/Q.txt')\n",
    "    pi = np.loadtxt(dataDirectory+'/pi.txt')\n",
    "    B0 = np.loadtxt(dataDirectory+'/piB.txt')\n",
    "    B = np.loadtxt(dataDirectory+'/B.txt')\n",
    "    Z = np.loadtxt(dataDirectory+'/Z.txt')\n",
    "    L = np.loadtxt(dataDirectory+'/L.txt')\n",
    "    anchors,comorbidityNames = loadAnchors(dataDirectory)\n",
    "    M = pi.shape[0]\n",
    "    K = Z.shape[0]\n",
    "else:\n",
    "    #DES Random inputs\n",
    "    K = args.K\n",
    "    M = args.M\n",
    "    ranSeed = args.randomseed\n",
    "    np.random.seed(ranSeed)\n",
    "    L = np.random.rand(D)*0.3\n",
    "    np.random.seed(ranSeed+1)\n",
    "    Z = np.random.rand(K,D)\n",
    "    np.random.seed(ranSeed+2)\n",
    "    B = np.random.rand(K,M)\n",
    "    np.random.seed(ranSeed+3)\n",
    "    B0 = np.random.rand(K,M)\n",
    "    B0.sort(axis=1)\n",
    "    np.random.seed(ranSeed+4)\n",
    "    pi = np.random.rand(M)*(1-M*0.001)+0.001*M\n",
    "    pi = pi/pi.sum()\n",
    "    pi[::-1].sort()\n",
    "    np.random.seed(ranSeed+5)\n",
    "    Qvals = np.random.rand(M-1)\n",
    "    Q = np.zeros((M,M))\n",
    "    for i,val in enumerate(Qvals):\n",
    "        Q[i,i+1] = val\n",
    "        Q[i,i] = -val\n",
    "    if args.anchorsdir is not None:\n",
    "        anchors,comorbidityNames = loadAnchors(args.anchorsdir)\n",
    "    else:\n",
    "        anchors = []\n",
    "        comorbidityNames = []"
   ]
  },
  {
   "cell_type": "code",
   "execution_count": 439,
   "metadata": {
    "collapsed": true
   },
   "outputs": [],
   "source": [
    "jumpInd = {}\n",
    "transMat = []\n",
    "for i,jump in enumerate(np.unique(obs_jumps)[1:]):\n",
    "    jumpInd[jump] = i\n",
    "    transMat.append(expm(jump*Q))"
   ]
  },
  {
   "cell_type": "code",
   "execution_count": 440,
   "metadata": {
    "collapsed": false
   },
   "outputs": [],
   "source": [
    "#Generate S from parameters\n",
    "S = np.zeros(nObs,dtype=np.int32)\n",
    "S[zeroIndices] = np.random.choice(np.arange(M),size=(N),p=pi)\n",
    "for n in range(N):\n",
    "    n0 = zeroIndices[n]\n",
    "    for t in range(1,T[n]):\n",
    "        S[n0+t] = np.random.choice(np.arange(M),p=transMat[jumpInd[obs_jumps[n0+t]]][S[n0+t-1]])"
   ]
  },
  {
   "cell_type": "code",
   "execution_count": 441,
   "metadata": {
    "collapsed": false
   },
   "outputs": [],
   "source": [
    "#Generate X from parameters\n",
    "X = np.zeros((nObs,K))\n",
    "X[zeroIndices] = np.random.binomial(n=1,p=B0[:,S[zeroIndices]].T)\n",
    "for k in range(K):\n",
    "    for n in range(N):\n",
    "        n0 = zeroIndices[n]\n",
    "        if X[n0,k] == 1:\n",
    "            X[zeroIndices[n]:(zeroIndices[n]+T[n]),k] = 1\n",
    "        else:\n",
    "            changed = np.diff(S[zeroIndices[n]:(zeroIndices[n]+T[n])])\n",
    "            for t in range(1,T[n]):\n",
    "                if changed[t-1]==1 and np.random.rand()<B[k,S[n0+t]]:\n",
    "                        X[(n0+t):(zeroIndices[n]+T[n]),k] = 1\n",
    "                        break\n",
    "X = X.astype(np.int8)"
   ]
  },
  {
   "cell_type": "code",
   "execution_count": 420,
   "metadata": {
    "collapsed": false
   },
   "outputs": [],
   "source": [
    "#Write pickled files\n",
    "variables = [Q,pi,S,T,obs_jumps,B0,B,X,Z,L,O,anchors,comorbidityNames]\n",
    "names = ['Q','pi','S','T','obs_jumps','B0','B','X','Z','L','O','anchors','comorbidityNames']\n",
    "if not os.path.isdir(args.outdir):\n",
    "    os.mkdir(args.outdir)\n",
    "for var,name in zip(variables,names):\n",
    "    outfile = open(args.outdir+'/'+name+'.pkl','wb')\n",
    "    dump(var,outfile)\n",
    "    outfile.close() "
   ]
  },
  {
   "cell_type": "code",
   "execution_count": null,
   "metadata": {
    "collapsed": false
   },
   "outputs": [],
   "source": []
  },
  {
   "cell_type": "code",
   "execution_count": null,
   "metadata": {
    "collapsed": false
   },
   "outputs": [],
   "source": []
  },
  {
   "cell_type": "code",
   "execution_count": null,
   "metadata": {
    "collapsed": true
   },
   "outputs": [],
   "source": []
  }
 ],
 "metadata": {
  "kernelspec": {
   "display_name": "Python 2",
   "language": "python",
   "name": "python2"
  },
  "language_info": {
   "codemirror_mode": {
    "name": "ipython",
    "version": 2
   },
   "file_extension": ".py",
   "mimetype": "text/x-python",
   "name": "python",
   "nbconvert_exporter": "python",
   "pygments_lexer": "ipython2",
   "version": "2.7.10"
  }
 },
 "nbformat": 4,
 "nbformat_minor": 0
}
